{
  "cells": [
    {
      "cell_type": "markdown",
      "metadata": {
        "id": "view-in-github",
        "colab_type": "text"
      },
      "source": [
        "<a href=\"https://colab.research.google.com/github/swathianil/2021_rTMS_intensity_review_paper/blob/main/DataConsolidation.ipynb\" target=\"_parent\"><img src=\"https://colab.research.google.com/assets/colab-badge.svg\" alt=\"Open In Colab\"/></a>"
      ]
    },
    {
      "cell_type": "code",
      "execution_count": 1,
      "metadata": {
        "colab": {
          "base_uri": "https://localhost:8080/"
        },
        "id": "jYqgiCmdd71h",
        "outputId": "af6c0669-1302-44cd-eeb3-ca3fe186fe29"
      },
      "outputs": [
        {
          "output_type": "stream",
          "name": "stdout",
          "text": [
            "Looking in indexes: https://pypi.org/simple, https://us-python.pkg.dev/colab-wheels/public/simple/\n",
            "Collecting metapub\n",
            "  Downloading metapub-0.5.5.tar.gz (120 kB)\n",
            "\u001b[K     |████████████████████████████████| 120 kB 7.4 MB/s \n",
            "\u001b[?25hRequirement already satisfied: setuptools in /usr/local/lib/python3.7/dist-packages (from metapub) (57.4.0)\n",
            "Requirement already satisfied: lxml in /usr/local/lib/python3.7/dist-packages (from metapub) (4.9.1)\n",
            "Requirement already satisfied: requests in /usr/local/lib/python3.7/dist-packages (from metapub) (2.23.0)\n",
            "Collecting eutils\n",
            "  Downloading eutils-0.6.0-py2.py3-none-any.whl (41 kB)\n",
            "\u001b[K     |████████████████████████████████| 41 kB 848 kB/s \n",
            "\u001b[?25hCollecting habanero\n",
            "  Downloading habanero-1.2.2-py3-none-any.whl (29 kB)\n",
            "Requirement already satisfied: tabulate in /usr/local/lib/python3.7/dist-packages (from metapub) (0.8.10)\n",
            "Collecting cssselect\n",
            "  Downloading cssselect-1.1.0-py2.py3-none-any.whl (16 kB)\n",
            "Collecting unidecode\n",
            "  Downloading Unidecode-1.3.4-py3-none-any.whl (235 kB)\n",
            "\u001b[K     |████████████████████████████████| 235 kB 51.5 MB/s \n",
            "\u001b[?25hCollecting docopt\n",
            "  Downloading docopt-0.6.2.tar.gz (25 kB)\n",
            "Requirement already satisfied: six in /usr/local/lib/python3.7/dist-packages (from metapub) (1.15.0)\n",
            "Collecting tox\n",
            "  Downloading tox-3.25.1-py2.py3-none-any.whl (85 kB)\n",
            "\u001b[K     |████████████████████████████████| 85 kB 5.6 MB/s \n",
            "\u001b[?25hRequirement already satisfied: pytest in /usr/local/lib/python3.7/dist-packages (from metapub) (3.6.4)\n",
            "Collecting coloredlogs\n",
            "  Downloading coloredlogs-15.0.1-py2.py3-none-any.whl (46 kB)\n",
            "\u001b[K     |████████████████████████████████| 46 kB 3.9 MB/s \n",
            "\u001b[?25hCollecting python-Levenshtein\n",
            "  Downloading python-Levenshtein-0.12.2.tar.gz (50 kB)\n",
            "\u001b[K     |████████████████████████████████| 50 kB 8.3 MB/s \n",
            "\u001b[?25hCollecting humanfriendly>=9.1\n",
            "  Downloading humanfriendly-10.0-py2.py3-none-any.whl (86 kB)\n",
            "\u001b[K     |████████████████████████████████| 86 kB 7.2 MB/s \n",
            "\u001b[?25hRequirement already satisfied: pytz in /usr/local/lib/python3.7/dist-packages (from eutils->metapub) (2022.2.1)\n",
            "Requirement already satisfied: tqdm in /usr/local/lib/python3.7/dist-packages (from habanero->metapub) (4.64.0)\n",
            "Requirement already satisfied: chardet<4,>=3.0.2 in /usr/local/lib/python3.7/dist-packages (from requests->metapub) (3.0.4)\n",
            "Requirement already satisfied: certifi>=2017.4.17 in /usr/local/lib/python3.7/dist-packages (from requests->metapub) (2022.6.15)\n",
            "Requirement already satisfied: urllib3!=1.25.0,!=1.25.1,<1.26,>=1.21.1 in /usr/local/lib/python3.7/dist-packages (from requests->metapub) (1.24.3)\n",
            "Requirement already satisfied: idna<3,>=2.5 in /usr/local/lib/python3.7/dist-packages (from requests->metapub) (2.10)\n",
            "Requirement already satisfied: more-itertools>=4.0.0 in /usr/local/lib/python3.7/dist-packages (from pytest->metapub) (8.14.0)\n",
            "Requirement already satisfied: py>=1.5.0 in /usr/local/lib/python3.7/dist-packages (from pytest->metapub) (1.11.0)\n",
            "Requirement already satisfied: attrs>=17.4.0 in /usr/local/lib/python3.7/dist-packages (from pytest->metapub) (22.1.0)\n",
            "Requirement already satisfied: pluggy<0.8,>=0.5 in /usr/local/lib/python3.7/dist-packages (from pytest->metapub) (0.7.1)\n",
            "Requirement already satisfied: atomicwrites>=1.0 in /usr/local/lib/python3.7/dist-packages (from pytest->metapub) (1.4.1)\n",
            "Requirement already satisfied: filelock>=3.0.0 in /usr/local/lib/python3.7/dist-packages (from tox->metapub) (3.8.0)\n",
            "Requirement already satisfied: importlib-metadata>=0.12 in /usr/local/lib/python3.7/dist-packages (from tox->metapub) (4.12.0)\n",
            "Collecting tox\n",
            "  Downloading tox-3.25.0-py2.py3-none-any.whl (85 kB)\n",
            "\u001b[K     |████████████████████████████████| 85 kB 5.3 MB/s \n",
            "\u001b[?25h  Downloading tox-3.24.5-py2.py3-none-any.whl (85 kB)\n",
            "\u001b[K     |████████████████████████████████| 85 kB 5.0 MB/s \n",
            "\u001b[?25h  Downloading tox-3.24.4-py2.py3-none-any.whl (85 kB)\n",
            "\u001b[K     |████████████████████████████████| 85 kB 5.2 MB/s \n",
            "\u001b[?25h  Downloading tox-3.24.3-py2.py3-none-any.whl (85 kB)\n",
            "\u001b[K     |████████████████████████████████| 85 kB 5.1 MB/s \n",
            "\u001b[?25h  Downloading tox-3.24.2-py2.py3-none-any.whl (85 kB)\n",
            "\u001b[K     |████████████████████████████████| 85 kB 5.5 MB/s \n",
            "\u001b[?25h  Downloading tox-3.24.1-py2.py3-none-any.whl (85 kB)\n",
            "\u001b[K     |████████████████████████████████| 85 kB 5.4 MB/s \n",
            "\u001b[?25h  Downloading tox-3.24.0-py2.py3-none-any.whl (85 kB)\n",
            "\u001b[K     |████████████████████████████████| 85 kB 2.7 MB/s \n",
            "\u001b[?25h  Downloading tox-3.23.1-py2.py3-none-any.whl (85 kB)\n",
            "\u001b[K     |████████████████████████████████| 85 kB 5.3 MB/s \n",
            "\u001b[?25h  Downloading tox-3.23.0-py2.py3-none-any.whl (85 kB)\n",
            "\u001b[K     |████████████████████████████████| 85 kB 5.2 MB/s \n",
            "\u001b[?25h  Downloading tox-3.22.0-py2.py3-none-any.whl (84 kB)\n",
            "\u001b[K     |████████████████████████████████| 84 kB 4.6 MB/s \n",
            "\u001b[?25h  Downloading tox-3.21.4-py2.py3-none-any.whl (84 kB)\n",
            "\u001b[K     |████████████████████████████████| 84 kB 4.4 MB/s \n",
            "\u001b[?25h  Downloading tox-3.21.3-py2.py3-none-any.whl (84 kB)\n",
            "\u001b[K     |████████████████████████████████| 84 kB 4.3 MB/s \n",
            "\u001b[?25h  Downloading tox-3.21.2-py2.py3-none-any.whl (84 kB)\n",
            "\u001b[K     |████████████████████████████████| 84 kB 4.0 MB/s \n",
            "\u001b[?25h  Downloading tox-3.21.1-py2.py3-none-any.whl (84 kB)\n",
            "\u001b[K     |████████████████████████████████| 84 kB 4.6 MB/s \n",
            "\u001b[?25h  Downloading tox-3.21.0-py2.py3-none-any.whl (84 kB)\n",
            "\u001b[K     |████████████████████████████████| 84 kB 3.5 MB/s \n",
            "\u001b[?25h  Downloading tox-3.20.1-py2.py3-none-any.whl (83 kB)\n",
            "\u001b[K     |████████████████████████████████| 83 kB 3.0 MB/s \n",
            "\u001b[?25h  Downloading tox-3.20.0-py2.py3-none-any.whl (83 kB)\n",
            "\u001b[K     |████████████████████████████████| 83 kB 2.7 MB/s \n",
            "\u001b[?25hCollecting importlib-metadata<2,>=0.12\n",
            "  Downloading importlib_metadata-1.7.0-py2.py3-none-any.whl (31 kB)\n",
            "Collecting tox\n",
            "  Downloading tox-3.19.0-py2.py3-none-any.whl (83 kB)\n",
            "\u001b[K     |████████████████████████████████| 83 kB 2.2 MB/s \n",
            "\u001b[?25h  Downloading tox-3.18.1-py2.py3-none-any.whl (82 kB)\n",
            "\u001b[K     |████████████████████████████████| 82 kB 1.2 MB/s \n",
            "\u001b[?25h  Downloading tox-3.18.0-py2.py3-none-any.whl (82 kB)\n",
            "\u001b[K     |████████████████████████████████| 82 kB 1.2 MB/s \n",
            "\u001b[?25h  Downloading tox-3.17.1-py2.py3-none-any.whl (82 kB)\n",
            "\u001b[K     |████████████████████████████████| 82 kB 1.1 MB/s \n",
            "\u001b[?25h  Downloading tox-3.17.0-py2.py3-none-any.whl (82 kB)\n",
            "\u001b[K     |████████████████████████████████| 82 kB 1.1 MB/s \n",
            "\u001b[?25h  Downloading tox-3.16.0-py2.py3-none-any.whl (82 kB)\n",
            "\u001b[K     |████████████████████████████████| 82 kB 1.1 MB/s \n",
            "\u001b[?25h  Downloading tox-3.15.2-py2.py3-none-any.whl (137 kB)\n",
            "\u001b[K     |████████████████████████████████| 137 kB 57.2 MB/s \n",
            "\u001b[?25h  Downloading tox-3.15.1-py2.py3-none-any.whl (82 kB)\n",
            "\u001b[K     |████████████████████████████████| 82 kB 289 kB/s \n",
            "\u001b[?25h  Downloading tox-3.15.0-py2.py3-none-any.whl (82 kB)\n",
            "\u001b[K     |████████████████████████████████| 82 kB 319 kB/s \n",
            "\u001b[?25h  Downloading tox-3.14.6-py2.py3-none-any.whl (81 kB)\n",
            "\u001b[K     |████████████████████████████████| 81 kB 11.5 MB/s \n",
            "\u001b[?25h  Downloading tox-3.14.5-py2.py3-none-any.whl (81 kB)\n",
            "\u001b[K     |████████████████████████████████| 81 kB 11.7 MB/s \n",
            "\u001b[?25hCollecting virtualenv>=16.0.0\n",
            "  Downloading virtualenv-20.16.3-py2.py3-none-any.whl (8.8 MB)\n",
            "\u001b[K     |████████████████████████████████| 8.8 MB 43.2 MB/s \n",
            "\u001b[?25hCollecting tox\n",
            "  Downloading tox-3.14.4-py2.py3-none-any.whl (81 kB)\n",
            "\u001b[K     |████████████████████████████████| 81 kB 3.1 MB/s \n",
            "\u001b[?25h  Downloading tox-3.14.3-py2.py3-none-any.whl (80 kB)\n",
            "\u001b[K     |████████████████████████████████| 80 kB 4.3 MB/s \n",
            "\u001b[?25h  Downloading tox-3.14.2-py2.py3-none-any.whl (80 kB)\n",
            "\u001b[K     |████████████████████████████████| 80 kB 9.9 MB/s \n",
            "\u001b[?25h  Downloading tox-3.14.1-py2.py3-none-any.whl (80 kB)\n",
            "\u001b[K     |████████████████████████████████| 80 kB 9.3 MB/s \n",
            "\u001b[?25h  Downloading tox-3.14.0-py2.py3-none-any.whl (80 kB)\n",
            "\u001b[K     |████████████████████████████████| 80 kB 9.5 MB/s \n",
            "\u001b[?25h  Downloading tox-3.13.2-py2.py3-none-any.whl (80 kB)\n",
            "\u001b[K     |████████████████████████████████| 80 kB 9.6 MB/s \n",
            "\u001b[?25h  Downloading tox-3.13.1-py2.py3-none-any.whl (80 kB)\n",
            "\u001b[K     |████████████████████████████████| 80 kB 9.8 MB/s \n",
            "\u001b[?25h  Downloading tox-3.13.0-py2.py3-none-any.whl (80 kB)\n",
            "\u001b[K     |████████████████████████████████| 80 kB 8.7 MB/s \n",
            "\u001b[?25h  Downloading tox-3.12.1-py2.py3-none-any.whl (79 kB)\n",
            "\u001b[K     |████████████████████████████████| 79 kB 8.5 MB/s \n",
            "\u001b[?25hRequirement already satisfied: toml>=0.9.4 in /usr/local/lib/python3.7/dist-packages (from tox->metapub) (0.10.2)\n",
            "Collecting distlib<1,>=0.3.5\n",
            "  Downloading distlib-0.3.5-py2.py3-none-any.whl (466 kB)\n",
            "\u001b[K     |████████████████████████████████| 466 kB 46.3 MB/s \n",
            "\u001b[?25hCollecting platformdirs<3,>=2.4\n",
            "  Downloading platformdirs-2.5.2-py3-none-any.whl (14 kB)\n",
            "Requirement already satisfied: zipp>=0.5 in /usr/local/lib/python3.7/dist-packages (from importlib-metadata>=0.12->tox->metapub) (3.8.1)\n",
            "Requirement already satisfied: typing-extensions>=3.6.4 in /usr/local/lib/python3.7/dist-packages (from importlib-metadata>=0.12->tox->metapub) (4.1.1)\n",
            "Building wheels for collected packages: metapub, docopt, python-Levenshtein\n",
            "  Building wheel for metapub (setup.py) ... \u001b[?25l\u001b[?25hdone\n",
            "  Created wheel for metapub: filename=metapub-0.5.5-py3-none-any.whl size=135370 sha256=ef67e40b492c7508ef4589f230933929947be70a52a62f7de9a8d79674a49a36\n",
            "  Stored in directory: /root/.cache/pip/wheels/26/cc/8e/ab5e3ed337658f5287ef12e8db6c13f005c2dca4898ec60c29\n",
            "  Building wheel for docopt (setup.py) ... \u001b[?25l\u001b[?25hdone\n",
            "  Created wheel for docopt: filename=docopt-0.6.2-py2.py3-none-any.whl size=13723 sha256=9b914f731f40d2ee5ea6f51086e551a8a1771504a27baead6273e9c5b1ce6eff\n",
            "  Stored in directory: /root/.cache/pip/wheels/72/b0/3f/1d95f96ff986c7dfffe46ce2be4062f38ebd04b506c77c81b9\n",
            "  Building wheel for python-Levenshtein (setup.py) ... \u001b[?25l\u001b[?25hdone\n",
            "  Created wheel for python-Levenshtein: filename=python_Levenshtein-0.12.2-cp37-cp37m-linux_x86_64.whl size=149865 sha256=190daa884e3424cb41d5d183cf14e740caaed42754b1498b5f1c1b70862b8f24\n",
            "  Stored in directory: /root/.cache/pip/wheels/05/5f/ca/7c4367734892581bb5ff896f15027a932c551080b2abd3e00d\n",
            "Successfully built metapub docopt python-Levenshtein\n",
            "Installing collected packages: platformdirs, distlib, virtualenv, humanfriendly, unidecode, tox, python-Levenshtein, habanero, eutils, docopt, cssselect, coloredlogs, metapub\n",
            "Successfully installed coloredlogs-15.0.1 cssselect-1.1.0 distlib-0.3.5 docopt-0.6.2 eutils-0.6.0 habanero-1.2.2 humanfriendly-10.0 metapub-0.5.5 platformdirs-2.5.2 python-Levenshtein-0.12.2 tox-3.12.1 unidecode-1.3.4 virtualenv-20.16.3\n",
            "Looking in indexes: https://pypi.org/simple, https://us-python.pkg.dev/colab-wheels/public/simple/\n",
            "\u001b[31mERROR: Could not find a version that satisfies the requirement glob (from versions: none)\u001b[0m\n",
            "\u001b[31mERROR: No matching distribution found for glob\u001b[0m\n"
          ]
        },
        {
          "output_type": "stream",
          "name": "stderr",
          "text": [
            "2022-08-26 07:49:49 12377d65de8d metapub.config[65] WARNING NCBI_API_KEY was not set.\n"
          ]
        },
        {
          "output_type": "stream",
          "name": "stdout",
          "text": [
            "Cloning into '2021_rTMS_intensity_review_paper'...\n",
            "remote: Enumerating objects: 104, done.\u001b[K\n",
            "remote: Counting objects: 100% (15/15), done.\u001b[K\n",
            "remote: Compressing objects: 100% (15/15), done.\u001b[K\n",
            "remote: Total 104 (delta 6), reused 0 (delta 0), pack-reused 89\u001b[K\n",
            "Receiving objects: 100% (104/104), 398.24 KiB | 1.75 MiB/s, done.\n",
            "Resolving deltas: 100% (48/48), done.\n"
          ]
        }
      ],
      "source": [
        "# Required additional packages\n",
        "# metapub:  \n",
        "! pip install metapub\n",
        "# glob: \n",
        "! pip install glob\n",
        "\n",
        "# Import libraries\n",
        "import pandas as pd\n",
        "import numpy as np\n",
        "import glob\n",
        "from metapub.convert import pmid2doi\n",
        "\n",
        "# Import data\n",
        "! git clone https://github.com/swathianil/2021_rTMS_intensity_review_paper.git\n",
        "\n"
      ]
    },
    {
      "cell_type": "code",
      "execution_count": 10,
      "metadata": {
        "id": "JW5kYNHaeD8N"
      },
      "outputs": [],
      "source": [
        "cd /content/cloned_2021_rTMS_intensity_review_paper/data/step2 # Set path to data folder\n",
        "\n",
        "# Merge all excel files into single dataframe\n",
        "filenames = glob.glob(\"*.xlsx\")      # Extract file names\n",
        "filenames.sort()\n",
        "\n",
        "df = pd.DataFrame()\n",
        "df1 = pd.DataFrame()\n",
        "for file in filenames:\n",
        "  df1 = pd.read_excel(file)\n",
        "  df = df.append(df1, ignore_index=True)\n",
        "\n"
      ]
    },
    {
      "cell_type": "code",
      "execution_count": 11,
      "metadata": {
        "id": "i34mC_TVeWNn"
      },
      "outputs": [],
      "source": [
        "# Obtain PubmedIDs (PMID)\n",
        "def fetch_pID(df):\n",
        "  pubmed_id = []\n",
        "  for x in df['pdf_name'].values:\n",
        "    id = int(x.split('.')[-2].split('_')[-1])\n",
        "    pubmed_id.append(id)\n",
        "  return pubmed_id\n",
        "\n",
        "pubmed_id = fetch_pID(df)\n",
        "\n",
        "# Fetch doi using PMID\n",
        "dois = [pmid2doi(pmid) for pmid in pubmed_id]\n",
        "\n",
        "# Append PMID and dois to dataframe\n",
        "df['PMID'] = pubmed_id\n",
        "df['doi'] = dois\n"
      ]
    },
    {
      "cell_type": "code",
      "execution_count": 112,
      "metadata": {
        "id": "tTLqh_W5fw74"
      },
      "outputs": [],
      "source": [
        "# Reconstruct links\n",
        "links = []\n",
        "for x in df['doi']:\n",
        "  links.append(f\"https://doi.org/{x}\")\n"
      ]
    },
    {
      "cell_type": "code",
      "execution_count": 113,
      "metadata": {
        "id": "3gi3p4uioQj9"
      },
      "outputs": [],
      "source": [
        "# Append links to dataframe\n",
        "df['link'] = links"
      ]
    },
    {
      "cell_type": "code",
      "source": [
        "# Save data\n",
        "df.to_excel('./rTMS_data.xlsx')\n",
        "df.to_csv('./rTMS_data.csv')"
      ],
      "metadata": {
        "id": "rp1N1ZpHStvB"
      },
      "execution_count": 117,
      "outputs": []
    }
  ],
  "metadata": {
    "colab": {
      "collapsed_sections": [],
      "name": "Untitled3.ipynb",
      "provenance": [],
      "authorship_tag": "ABX9TyMdnGNmDeoXFJaJDSuDfPBu",
      "include_colab_link": true
    },
    "kernelspec": {
      "display_name": "Python 3",
      "name": "python3"
    },
    "language_info": {
      "name": "python"
    }
  },
  "nbformat": 4,
  "nbformat_minor": 0
}