{
  "cells": [
    {
      "cell_type": "markdown",
      "metadata": {
        "id": "view-in-github",
        "colab_type": "text"
      },
      "source": [
        "<a href=\"https://colab.research.google.com/github/swathianil/2021_rTMS_intensity_review_paper/blob/main/DataConsolidation.ipynb\" target=\"_parent\"><img src=\"https://colab.research.google.com/assets/colab-badge.svg\" alt=\"Open In Colab\"/></a>"
      ]
    },
    {
      "cell_type": "code",
      "execution_count": null,
      "metadata": {
        "id": "jYqgiCmdd71h"
      },
      "outputs": [],
      "source": [
        "# Required additional packages\n",
        "# metapub:  \n",
        "! pip install metapub\n",
        "# glob: \n",
        "! pip install glob\n",
        "\n",
        "# Import libraries\n",
        "import pandas as pd\n",
        "import numpy as np\n",
        "import glob\n",
        "from metapub.convert import pmid2doi\n",
        "\n",
        "# Import data\n",
        "! git clone https://github.com/swathianil/2021_rTMS_intensity_review_paper.git\n",
        "\n"
      ]
    },
    {
      "cell_type": "code",
      "execution_count": null,
      "metadata": {
        "id": "JW5kYNHaeD8N"
      },
      "outputs": [],
      "source": [
        "cd /content/cloned_2021_rTMS_intensity_review_paper/data/step2 # Set path to data folder\n",
        "\n",
        "# Merge all excel files into single dataframe\n",
        "filenames = glob.glob(\"*.xlsx\")      # Extract file names\n",
        "filenames.sort()\n",
        "\n",
        "df = pd.DataFrame()\n",
        "df1 = pd.DataFrame()\n",
        "for file in filenames:\n",
        "  df1 = pd.read_excel(file)\n",
        "  df = df.append(df1, ignore_index=True)\n",
        "\n"
      ]
    },
    {
      "cell_type": "code",
      "execution_count": null,
      "metadata": {
        "id": "i34mC_TVeWNn"
      },
      "outputs": [],
      "source": [
        "# Obtain PubmedIDs (PMID)\n",
        "def fetch_pID(df):\n",
        "  pubmed_id = []\n",
        "  for x in df['pdf_name'].values:\n",
        "    id = int(x.split('.')[-2].split('_')[-1])\n",
        "    pubmed_id.append(id)\n",
        "  return pubmed_id\n",
        "\n",
        "pubmed_id = fetch_pID(df)\n",
        "\n",
        "# Fetch doi using PMID\n",
        "dois = [pmid2doi(pmid) for pmid in pubmed_id]\n",
        "\n",
        "# Append PMID and dois to dataframe\n",
        "df['PMID'] = pubmed_id\n",
        "df['doi'] = dois\n"
      ]
    },
    {
      "cell_type": "code",
      "execution_count": null,
      "metadata": {
        "id": "tTLqh_W5fw74"
      },
      "outputs": [],
      "source": [
        "# Reconstruct links\n",
        "links = []\n",
        "for x in df['doi']:\n",
        "  links.append(f\"https://doi.org/{x}\")\n"
      ]
    },
    {
      "cell_type": "code",
      "execution_count": null,
      "metadata": {
        "id": "3gi3p4uioQj9"
      },
      "outputs": [],
      "source": [
        "# Append links to dataframe\n",
        "df['link'] = links"
      ]
    },
    {
      "cell_type": "code",
      "source": [
        "# Save data\n",
        "df.to_excel('./rTMS_data.xlsx')\n",
        "df.to_csv('./rTMS_data.csv')"
      ],
      "metadata": {
        "id": "rp1N1ZpHStvB"
      },
      "execution_count": null,
      "outputs": []
    }
  ],
  "metadata": {
    "colab": {
      "collapsed_sections": [],
      "name": "Untitled3.ipynb",
      "provenance": [],
      "authorship_tag": "ABX9TyMdnGNmDeoXFJaJDSuDfPBu",
      "include_colab_link": true
    },
    "kernelspec": {
      "display_name": "Python 3",
      "name": "python3"
    },
    "language_info": {
      "name": "python"
    }
  },
  "nbformat": 4,
  "nbformat_minor": 0
}